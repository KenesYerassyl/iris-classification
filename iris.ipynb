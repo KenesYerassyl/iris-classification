{
 "cells": [
  {
   "cell_type": "markdown",
   "id": "620ca8f6",
   "metadata": {},
   "source": [
    "# Deep Learning Model for classifying Iris plant, Yerassyl Kenes"
   ]
  },
  {
   "cell_type": "markdown",
   "id": "dddea914",
   "metadata": {},
   "source": [
    "## Adding necessary libraries"
   ]
  },
  {
   "cell_type": "code",
   "execution_count": 1,
   "id": "cf64b878",
   "metadata": {},
   "outputs": [],
   "source": [
    "import tensorflow as tf #importing tensorflow for deep learning\n",
    "import numpy as np #numpy for math operations\n",
    "import pandas as pd #pandas for data manipulation\n",
    "from sklearn.model_selection import train_test_split #splitting data into portions (test, train, validation)\n",
    "from tensorflow.keras import layers # layers in our Deep Learning Model"
   ]
  },
  {
   "cell_type": "markdown",
   "id": "ffda7174",
   "metadata": {},
   "source": [
    "## Fetching data from UCI repository"
   ]
  },
  {
   "cell_type": "code",
   "execution_count": 2,
   "id": "87f94383",
   "metadata": {},
   "outputs": [],
   "source": [
    "from ucimlrepo import fetch_ucirepo \n",
    "  \n",
    "# fetch dataset \n",
    "iris = fetch_ucirepo(id=53) \n",
    "  \n",
    "# data (as pandas dataframes) \n",
    "X = iris.data.features \n",
    "y = iris.data.targets"
   ]
  },
  {
   "cell_type": "markdown",
   "id": "1f3f16a0",
   "metadata": {},
   "source": [
    "## Data Preparation\n",
    "### Converting all feature values from string to float"
   ]
  },
  {
   "cell_type": "code",
   "execution_count": 3,
   "id": "2b7f41df",
   "metadata": {},
   "outputs": [],
   "source": [
    "class_names = y['class'].unique() #array with class names\n",
    "num_features=iris.metadata['num_features'] # number of features\n",
    "num_classes=len(class_names) # number of classes\n",
    "X = X.astype(float) # input data converted to float"
   ]
  },
  {
   "cell_type": "markdown",
   "id": "a7ce4fbd",
   "metadata": {},
   "source": [
    "### Creating one-hot encoded class dataframe\n",
    "#### Since we have 4 types of classes, at the last layer of our deep learning layer we should have 4 neurons with activation functions. Thus, we should make original 1 column output, into 4 column ouput via one-hot encoding."
   ]
  },
  {
   "cell_type": "code",
   "execution_count": 4,
   "id": "a3c58393",
   "metadata": {},
   "outputs": [],
   "source": [
    "one_hot_encoded_y = pd.DataFrame(columns=class_names) # creating one-hot encoded empty output data frame\n",
    "for row in y['class']: # iterate through each row in the original output data frame\n",
    "    one_hot_encoded_y.loc[len(one_hot_encoded_y)] = {class_name:(1 if class_name == row else 0) for class_name in class_names}\n",
    "    # inserting a row in a form of dictionary {class_name: (0 or 1)}, the current class column is equal to 1, other equal to 0"
   ]
  },
  {
   "cell_type": "markdown",
   "id": "b4ffd12d",
   "metadata": {},
   "source": [
    "### Splitting data into train, validation, test sets (60, 20, 20)"
   ]
  },
  {
   "cell_type": "code",
   "execution_count": 5,
   "id": "4a716bf7",
   "metadata": {},
   "outputs": [],
   "source": [
    "X_train, X_test, y_train, y_test = train_test_split(X, one_hot_encoded_y, test_size=0.4, random_state=42) #split X into train test (60, 40)\n",
    "X_val, X_test, y_val, y_test = train_test_split(X_test, y_test, test_size=0.5, random_state=42) #split test into test, train (50, 50)"
   ]
  },
  {
   "cell_type": "markdown",
   "id": "8dcbbf07",
   "metadata": {},
   "source": [
    "## Creating a model and training it\n",
    "### Model will have a sequential structure with 4 layers"
   ]
  },
  {
   "cell_type": "code",
   "execution_count": 6,
   "id": "3b88155a",
   "metadata": {},
   "outputs": [
    {
     "name": "stderr",
     "output_type": "stream",
     "text": [
      "2024-05-20 15:45:56.309249: I metal_plugin/src/device/metal_device.cc:1154] Metal device set to: Apple M2 Pro\n",
      "2024-05-20 15:45:56.309265: I metal_plugin/src/device/metal_device.cc:296] systemMemory: 16.00 GB\n",
      "2024-05-20 15:45:56.309274: I metal_plugin/src/device/metal_device.cc:313] maxCacheSize: 5.33 GB\n",
      "2024-05-20 15:45:56.309289: I tensorflow/core/common_runtime/pluggable_device/pluggable_device_factory.cc:305] Could not identify NUMA node of platform GPU ID 0, defaulting to 0. Your kernel may not have been built with NUMA support.\n",
      "2024-05-20 15:45:56.309300: I tensorflow/core/common_runtime/pluggable_device/pluggable_device_factory.cc:271] Created TensorFlow device (/job:localhost/replica:0/task:0/device:GPU:0 with 0 MB memory) -> physical PluggableDevice (device: 0, name: METAL, pci bus id: <undefined>)\n"
     ]
    }
   ],
   "source": [
    "model = tf.keras.Sequential([\n",
    "    layers.Input(shape=(num_features, )),\n",
    "    layers.Dense(64, activation='relu'),\n",
    "    layers.Dense(32, activation='relu'),\n",
    "    layers.Dense(num_classes, activation='softmax')\n",
    "])"
   ]
  },
  {
   "cell_type": "markdown",
   "id": "6c3c9d40",
   "metadata": {},
   "source": [
    "### Compiling and fitting the model\n",
    "#### Optimizer: Stochastic Gradient Descent\n",
    "#### Loss function: Categorical Cross Entropy\n",
    "#### Metrics: Categorical Accuracy\n",
    "#### Epochs: 50"
   ]
  },
  {
   "cell_type": "code",
   "execution_count": 7,
   "id": "f45cb3bd",
   "metadata": {},
   "outputs": [
    {
     "name": "stdout",
     "output_type": "stream",
     "text": [
      "Epoch 1/80\n"
     ]
    },
    {
     "name": "stderr",
     "output_type": "stream",
     "text": [
      "2024-05-20 15:45:56.540584: I tensorflow/core/grappler/optimizers/custom_graph_optimizer_registry.cc:117] Plugin optimizer for device_type GPU is enabled.\n"
     ]
    },
    {
     "name": "stdout",
     "output_type": "stream",
     "text": [
      "\u001b[1m3/3\u001b[0m \u001b[32m━━━━━━━━━━━━━━━━━━━━\u001b[0m\u001b[37m\u001b[0m \u001b[1m0s\u001b[0m 109ms/step - categorical_accuracy: 0.3669 - loss: 1.2529 - val_categorical_accuracy: 0.7667 - val_loss: 0.8987\n",
      "Epoch 2/80\n",
      "\u001b[1m3/3\u001b[0m \u001b[32m━━━━━━━━━━━━━━━━━━━━\u001b[0m\u001b[37m\u001b[0m \u001b[1m0s\u001b[0m 25ms/step - categorical_accuracy: 0.6214 - loss: 1.0200 - val_categorical_accuracy: 0.8000 - val_loss: 0.8418\n",
      "Epoch 3/80\n",
      "\u001b[1m3/3\u001b[0m \u001b[32m━━━━━━━━━━━━━━━━━━━━\u001b[0m\u001b[37m\u001b[0m \u001b[1m0s\u001b[0m 24ms/step - categorical_accuracy: 0.6442 - loss: 0.9331 - val_categorical_accuracy: 0.8000 - val_loss: 0.8010\n",
      "Epoch 4/80\n",
      "\u001b[1m3/3\u001b[0m \u001b[32m━━━━━━━━━━━━━━━━━━━━\u001b[0m\u001b[37m\u001b[0m \u001b[1m0s\u001b[0m 23ms/step - categorical_accuracy: 0.6832 - loss: 0.8690 - val_categorical_accuracy: 0.8000 - val_loss: 0.7792\n",
      "Epoch 5/80\n",
      "\u001b[1m3/3\u001b[0m \u001b[32m━━━━━━━━━━━━━━━━━━━━\u001b[0m\u001b[37m\u001b[0m \u001b[1m0s\u001b[0m 23ms/step - categorical_accuracy: 0.6676 - loss: 0.8343 - val_categorical_accuracy: 0.8333 - val_loss: 0.7471\n",
      "Epoch 6/80\n",
      "\u001b[1m3/3\u001b[0m \u001b[32m━━━━━━━━━━━━━━━━━━━━\u001b[0m\u001b[37m\u001b[0m \u001b[1m0s\u001b[0m 23ms/step - categorical_accuracy: 0.6775 - loss: 0.8121 - val_categorical_accuracy: 0.8333 - val_loss: 0.7062\n",
      "Epoch 7/80\n",
      "\u001b[1m3/3\u001b[0m \u001b[32m━━━━━━━━━━━━━━━━━━━━\u001b[0m\u001b[37m\u001b[0m \u001b[1m0s\u001b[0m 22ms/step - categorical_accuracy: 0.6999 - loss: 0.7659 - val_categorical_accuracy: 0.8333 - val_loss: 0.6853\n",
      "Epoch 8/80\n",
      "\u001b[1m3/3\u001b[0m \u001b[32m━━━━━━━━━━━━━━━━━━━━\u001b[0m\u001b[37m\u001b[0m \u001b[1m0s\u001b[0m 21ms/step - categorical_accuracy: 0.7205 - loss: 0.7481 - val_categorical_accuracy: 0.8333 - val_loss: 0.6606\n",
      "Epoch 9/80\n",
      "\u001b[1m3/3\u001b[0m \u001b[32m━━━━━━━━━━━━━━━━━━━━\u001b[0m\u001b[37m\u001b[0m \u001b[1m0s\u001b[0m 22ms/step - categorical_accuracy: 0.7110 - loss: 0.7359 - val_categorical_accuracy: 0.8667 - val_loss: 0.6482\n",
      "Epoch 10/80\n",
      "\u001b[1m3/3\u001b[0m \u001b[32m━━━━━━━━━━━━━━━━━━━━\u001b[0m\u001b[37m\u001b[0m \u001b[1m0s\u001b[0m 22ms/step - categorical_accuracy: 0.7577 - loss: 0.7184 - val_categorical_accuracy: 0.8333 - val_loss: 0.6206\n",
      "Epoch 11/80\n",
      "\u001b[1m3/3\u001b[0m \u001b[32m━━━━━━━━━━━━━━━━━━━━\u001b[0m\u001b[37m\u001b[0m \u001b[1m0s\u001b[0m 23ms/step - categorical_accuracy: 0.6983 - loss: 0.6837 - val_categorical_accuracy: 0.9333 - val_loss: 0.6156\n",
      "Epoch 12/80\n",
      "\u001b[1m3/3\u001b[0m \u001b[32m━━━━━━━━━━━━━━━━━━━━\u001b[0m\u001b[37m\u001b[0m \u001b[1m0s\u001b[0m 24ms/step - categorical_accuracy: 0.7717 - loss: 0.6893 - val_categorical_accuracy: 0.8333 - val_loss: 0.5883\n",
      "Epoch 13/80\n",
      "\u001b[1m3/3\u001b[0m \u001b[32m━━━━━━━━━━━━━━━━━━━━\u001b[0m\u001b[37m\u001b[0m \u001b[1m0s\u001b[0m 22ms/step - categorical_accuracy: 0.7384 - loss: 0.6615 - val_categorical_accuracy: 0.9333 - val_loss: 0.5864\n",
      "Epoch 14/80\n",
      "\u001b[1m3/3\u001b[0m \u001b[32m━━━━━━━━━━━━━━━━━━━━\u001b[0m\u001b[37m\u001b[0m \u001b[1m0s\u001b[0m 21ms/step - categorical_accuracy: 0.8696 - loss: 0.6797 - val_categorical_accuracy: 0.8000 - val_loss: 0.5532\n",
      "Epoch 15/80\n",
      "\u001b[1m3/3\u001b[0m \u001b[32m━━━━━━━━━━━━━━━━━━━━\u001b[0m\u001b[37m\u001b[0m \u001b[1m0s\u001b[0m 21ms/step - categorical_accuracy: 0.6882 - loss: 0.6387 - val_categorical_accuracy: 0.9000 - val_loss: 0.5509\n",
      "Epoch 16/80\n",
      "\u001b[1m3/3\u001b[0m \u001b[32m━━━━━━━━━━━━━━━━━━━━\u001b[0m\u001b[37m\u001b[0m \u001b[1m0s\u001b[0m 23ms/step - categorical_accuracy: 0.7990 - loss: 0.6308 - val_categorical_accuracy: 0.9333 - val_loss: 0.5435\n",
      "Epoch 17/80\n",
      "\u001b[1m3/3\u001b[0m \u001b[32m━━━━━━━━━━━━━━━━━━━━\u001b[0m\u001b[37m\u001b[0m \u001b[1m0s\u001b[0m 24ms/step - categorical_accuracy: 0.8998 - loss: 0.6360 - val_categorical_accuracy: 0.9000 - val_loss: 0.5221\n",
      "Epoch 18/80\n",
      "\u001b[1m3/3\u001b[0m \u001b[32m━━━━━━━━━━━━━━━━━━━━\u001b[0m\u001b[37m\u001b[0m \u001b[1m0s\u001b[0m 24ms/step - categorical_accuracy: 0.8274 - loss: 0.6198 - val_categorical_accuracy: 0.9333 - val_loss: 0.5171\n",
      "Epoch 19/80\n",
      "\u001b[1m3/3\u001b[0m \u001b[32m━━━━━━━━━━━━━━━━━━━━\u001b[0m\u001b[37m\u001b[0m \u001b[1m0s\u001b[0m 27ms/step - categorical_accuracy: 0.8391 - loss: 0.5909 - val_categorical_accuracy: 0.9333 - val_loss: 0.5117\n",
      "Epoch 20/80\n",
      "\u001b[1m3/3\u001b[0m \u001b[32m━━━━━━━━━━━━━━━━━━━━\u001b[0m\u001b[37m\u001b[0m \u001b[1m0s\u001b[0m 23ms/step - categorical_accuracy: 0.8202 - loss: 0.5836 - val_categorical_accuracy: 1.0000 - val_loss: 0.5110\n",
      "Epoch 21/80\n",
      "\u001b[1m3/3\u001b[0m \u001b[32m━━━━━━━━━━━━━━━━━━━━\u001b[0m\u001b[37m\u001b[0m \u001b[1m0s\u001b[0m 25ms/step - categorical_accuracy: 0.8982 - loss: 0.5844 - val_categorical_accuracy: 1.0000 - val_loss: 0.4953\n",
      "Epoch 22/80\n",
      "\u001b[1m3/3\u001b[0m \u001b[32m━━━━━━━━━━━━━━━━━━━━\u001b[0m\u001b[37m\u001b[0m \u001b[1m0s\u001b[0m 24ms/step - categorical_accuracy: 0.8708 - loss: 0.5679 - val_categorical_accuracy: 0.9667 - val_loss: 0.4786\n",
      "Epoch 23/80\n",
      "\u001b[1m3/3\u001b[0m \u001b[32m━━━━━━━━━━━━━━━━━━━━\u001b[0m\u001b[37m\u001b[0m \u001b[1m0s\u001b[0m 23ms/step - categorical_accuracy: 0.8809 - loss: 0.5481 - val_categorical_accuracy: 0.9667 - val_loss: 0.4729\n",
      "Epoch 24/80\n",
      "\u001b[1m3/3\u001b[0m \u001b[32m━━━━━━━━━━━━━━━━━━━━\u001b[0m\u001b[37m\u001b[0m \u001b[1m0s\u001b[0m 23ms/step - categorical_accuracy: 0.8904 - loss: 0.5515 - val_categorical_accuracy: 0.9667 - val_loss: 0.4628\n",
      "Epoch 25/80\n",
      "\u001b[1m3/3\u001b[0m \u001b[32m━━━━━━━━━━━━━━━━━━━━\u001b[0m\u001b[37m\u001b[0m \u001b[1m0s\u001b[0m 22ms/step - categorical_accuracy: 0.9109 - loss: 0.5526 - val_categorical_accuracy: 0.9333 - val_loss: 0.4467\n",
      "Epoch 26/80\n",
      "\u001b[1m3/3\u001b[0m \u001b[32m━━━━━━━━━━━━━━━━━━━━\u001b[0m\u001b[37m\u001b[0m \u001b[1m0s\u001b[0m 22ms/step - categorical_accuracy: 0.8530 - loss: 0.5514 - val_categorical_accuracy: 0.9333 - val_loss: 0.4350\n",
      "Epoch 27/80\n",
      "\u001b[1m3/3\u001b[0m \u001b[32m━━━━━━━━━━━━━━━━━━━━\u001b[0m\u001b[37m\u001b[0m \u001b[1m0s\u001b[0m 24ms/step - categorical_accuracy: 0.8569 - loss: 0.5370 - val_categorical_accuracy: 0.9333 - val_loss: 0.4257\n",
      "Epoch 28/80\n",
      "\u001b[1m3/3\u001b[0m \u001b[32m━━━━━━━━━━━━━━━━━━━━\u001b[0m\u001b[37m\u001b[0m \u001b[1m0s\u001b[0m 28ms/step - categorical_accuracy: 0.8262 - loss: 0.5224 - val_categorical_accuracy: 0.9333 - val_loss: 0.4231\n",
      "Epoch 29/80\n",
      "\u001b[1m3/3\u001b[0m \u001b[32m━━━━━━━━━━━━━━━━━━━━\u001b[0m\u001b[37m\u001b[0m \u001b[1m0s\u001b[0m 22ms/step - categorical_accuracy: 0.8898 - loss: 0.5177 - val_categorical_accuracy: 0.9667 - val_loss: 0.4180\n",
      "Epoch 30/80\n",
      "\u001b[1m3/3\u001b[0m \u001b[32m━━━━━━━━━━━━━━━━━━━━\u001b[0m\u001b[37m\u001b[0m \u001b[1m0s\u001b[0m 22ms/step - categorical_accuracy: 0.8747 - loss: 0.5022 - val_categorical_accuracy: 0.9667 - val_loss: 0.4152\n",
      "Epoch 31/80\n",
      "\u001b[1m3/3\u001b[0m \u001b[32m━━━━━━━━━━━━━━━━━━━━\u001b[0m\u001b[37m\u001b[0m \u001b[1m0s\u001b[0m 24ms/step - categorical_accuracy: 0.8931 - loss: 0.4918 - val_categorical_accuracy: 0.9667 - val_loss: 0.4063\n",
      "Epoch 32/80\n",
      "\u001b[1m3/3\u001b[0m \u001b[32m━━━━━━━━━━━━━━━━━━━━\u001b[0m\u001b[37m\u001b[0m \u001b[1m0s\u001b[0m 23ms/step - categorical_accuracy: 0.9087 - loss: 0.4869 - val_categorical_accuracy: 0.9333 - val_loss: 0.3947\n",
      "Epoch 33/80\n",
      "\u001b[1m3/3\u001b[0m \u001b[32m━━━━━━━━━━━━━━━━━━━━\u001b[0m\u001b[37m\u001b[0m \u001b[1m0s\u001b[0m 23ms/step - categorical_accuracy: 0.8653 - loss: 0.4986 - val_categorical_accuracy: 1.0000 - val_loss: 0.4032\n",
      "Epoch 34/80\n",
      "\u001b[1m3/3\u001b[0m \u001b[32m━━━━━━━━━━━━━━━━━━━━\u001b[0m\u001b[37m\u001b[0m \u001b[1m0s\u001b[0m 22ms/step - categorical_accuracy: 0.8998 - loss: 0.4631 - val_categorical_accuracy: 1.0000 - val_loss: 0.4034\n",
      "Epoch 35/80\n",
      "\u001b[1m3/3\u001b[0m \u001b[32m━━━━━━━━━━━━━━━━━━━━\u001b[0m\u001b[37m\u001b[0m \u001b[1m0s\u001b[0m 22ms/step - categorical_accuracy: 0.9638 - loss: 0.4800 - val_categorical_accuracy: 0.9667 - val_loss: 0.3801\n",
      "Epoch 36/80\n",
      "\u001b[1m3/3\u001b[0m \u001b[32m━━━━━━━━━━━━━━━━━━━━\u001b[0m\u001b[37m\u001b[0m \u001b[1m0s\u001b[0m 22ms/step - categorical_accuracy: 0.9015 - loss: 0.4637 - val_categorical_accuracy: 1.0000 - val_loss: 0.3844\n",
      "Epoch 37/80\n",
      "\u001b[1m3/3\u001b[0m \u001b[32m━━━━━━━━━━━━━━━━━━━━\u001b[0m\u001b[37m\u001b[0m \u001b[1m0s\u001b[0m 22ms/step - categorical_accuracy: 0.9054 - loss: 0.4424 - val_categorical_accuracy: 1.0000 - val_loss: 0.3908\n",
      "Epoch 38/80\n",
      "\u001b[1m3/3\u001b[0m \u001b[32m━━━━━━━━━━━━━━━━━━━━\u001b[0m\u001b[37m\u001b[0m \u001b[1m0s\u001b[0m 22ms/step - categorical_accuracy: 0.9471 - loss: 0.4690 - val_categorical_accuracy: 1.0000 - val_loss: 0.3736\n",
      "Epoch 39/80\n",
      "\u001b[1m3/3\u001b[0m \u001b[32m━━━━━━━━━━━━━━━━━━━━\u001b[0m\u001b[37m\u001b[0m \u001b[1m0s\u001b[0m 22ms/step - categorical_accuracy: 0.9661 - loss: 0.4564 - val_categorical_accuracy: 1.0000 - val_loss: 0.3641\n",
      "Epoch 40/80\n",
      "\u001b[1m3/3\u001b[0m \u001b[32m━━━━━━━━━━━━━━━━━━━━\u001b[0m\u001b[37m\u001b[0m \u001b[1m0s\u001b[0m 22ms/step - categorical_accuracy: 0.9181 - loss: 0.4319 - val_categorical_accuracy: 0.9667 - val_loss: 0.3512\n",
      "Epoch 41/80\n",
      "\u001b[1m3/3\u001b[0m \u001b[32m━━━━━━━━━━━━━━━━━━━━\u001b[0m\u001b[37m\u001b[0m \u001b[1m0s\u001b[0m 21ms/step - categorical_accuracy: 0.8797 - loss: 0.4546 - val_categorical_accuracy: 0.9333 - val_loss: 0.3394\n",
      "Epoch 42/80\n",
      "\u001b[1m3/3\u001b[0m \u001b[32m━━━━━━━━━━━━━━━━━━━━\u001b[0m\u001b[37m\u001b[0m \u001b[1m0s\u001b[0m 22ms/step - categorical_accuracy: 0.8764 - loss: 0.4403 - val_categorical_accuracy: 1.0000 - val_loss: 0.3511\n",
      "Epoch 43/80\n",
      "\u001b[1m3/3\u001b[0m \u001b[32m━━━━━━━━━━━━━━━━━━━━\u001b[0m\u001b[37m\u001b[0m \u001b[1m0s\u001b[0m 22ms/step - categorical_accuracy: 0.9471 - loss: 0.4360 - val_categorical_accuracy: 0.9667 - val_loss: 0.3384\n",
      "Epoch 44/80\n",
      "\u001b[1m3/3\u001b[0m \u001b[32m━━━━━━━━━━━━━━━━━━━━\u001b[0m\u001b[37m\u001b[0m \u001b[1m0s\u001b[0m 22ms/step - categorical_accuracy: 0.9087 - loss: 0.4245 - val_categorical_accuracy: 1.0000 - val_loss: 0.3466\n",
      "Epoch 45/80\n"
     ]
    },
    {
     "name": "stdout",
     "output_type": "stream",
     "text": [
      "\u001b[1m3/3\u001b[0m \u001b[32m━━━━━━━━━━━━━━━━━━━━\u001b[0m\u001b[37m\u001b[0m \u001b[1m0s\u001b[0m 22ms/step - categorical_accuracy: 0.9377 - loss: 0.4308 - val_categorical_accuracy: 1.0000 - val_loss: 0.3402\n",
      "Epoch 46/80\n",
      "\u001b[1m3/3\u001b[0m \u001b[32m━━━━━━━━━━━━━━━━━━━━\u001b[0m\u001b[37m\u001b[0m \u001b[1m0s\u001b[0m 22ms/step - categorical_accuracy: 0.9471 - loss: 0.4219 - val_categorical_accuracy: 1.0000 - val_loss: 0.3379\n",
      "Epoch 47/80\n",
      "\u001b[1m3/3\u001b[0m \u001b[32m━━━━━━━━━━━━━━━━━━━━\u001b[0m\u001b[37m\u001b[0m \u001b[1m0s\u001b[0m 20ms/step - categorical_accuracy: 0.9566 - loss: 0.4028 - val_categorical_accuracy: 1.0000 - val_loss: 0.3415\n",
      "Epoch 48/80\n",
      "\u001b[1m3/3\u001b[0m \u001b[32m━━━━━━━━━━━━━━━━━━━━\u001b[0m\u001b[37m\u001b[0m \u001b[1m0s\u001b[0m 20ms/step - categorical_accuracy: 0.9716 - loss: 0.4236 - val_categorical_accuracy: 0.9667 - val_loss: 0.3184\n",
      "Epoch 49/80\n",
      "\u001b[1m3/3\u001b[0m \u001b[32m━━━━━━━━━━━━━━━━━━━━\u001b[0m\u001b[37m\u001b[0m \u001b[1m0s\u001b[0m 21ms/step - categorical_accuracy: 0.9171 - loss: 0.3867 - val_categorical_accuracy: 0.8667 - val_loss: 0.3515\n",
      "Epoch 50/80\n",
      "\u001b[1m3/3\u001b[0m \u001b[32m━━━━━━━━━━━━━━━━━━━━\u001b[0m\u001b[37m\u001b[0m \u001b[1m0s\u001b[0m 21ms/step - categorical_accuracy: 0.9482 - loss: 0.4080 - val_categorical_accuracy: 1.0000 - val_loss: 0.3159\n",
      "Epoch 51/80\n",
      "\u001b[1m3/3\u001b[0m \u001b[32m━━━━━━━━━━━━━━━━━━━━\u001b[0m\u001b[37m\u001b[0m \u001b[1m0s\u001b[0m 27ms/step - categorical_accuracy: 0.9266 - loss: 0.3777 - val_categorical_accuracy: 1.0000 - val_loss: 0.3277\n",
      "Epoch 52/80\n",
      "\u001b[1m3/3\u001b[0m \u001b[32m━━━━━━━━━━━━━━━━━━━━\u001b[0m\u001b[37m\u001b[0m \u001b[1m0s\u001b[0m 21ms/step - categorical_accuracy: 0.9794 - loss: 0.3804 - val_categorical_accuracy: 1.0000 - val_loss: 0.3143\n",
      "Epoch 53/80\n",
      "\u001b[1m3/3\u001b[0m \u001b[32m━━━━━━━━━━━━━━━━━━━━\u001b[0m\u001b[37m\u001b[0m \u001b[1m0s\u001b[0m 21ms/step - categorical_accuracy: 0.9387 - loss: 0.4123 - val_categorical_accuracy: 0.9667 - val_loss: 0.3016\n",
      "Epoch 54/80\n",
      "\u001b[1m3/3\u001b[0m \u001b[32m━━━━━━━━━━━━━━━━━━━━\u001b[0m\u001b[37m\u001b[0m \u001b[1m0s\u001b[0m 21ms/step - categorical_accuracy: 0.8931 - loss: 0.3789 - val_categorical_accuracy: 1.0000 - val_loss: 0.3097\n",
      "Epoch 55/80\n",
      "\u001b[1m3/3\u001b[0m \u001b[32m━━━━━━━━━━━━━━━━━━━━\u001b[0m\u001b[37m\u001b[0m \u001b[1m0s\u001b[0m 23ms/step - categorical_accuracy: 0.9700 - loss: 0.3690 - val_categorical_accuracy: 1.0000 - val_loss: 0.3048\n",
      "Epoch 56/80\n",
      "\u001b[1m3/3\u001b[0m \u001b[32m━━━━━━━━━━━━━━━━━━━━\u001b[0m\u001b[37m\u001b[0m \u001b[1m0s\u001b[0m 22ms/step - categorical_accuracy: 0.9354 - loss: 0.3729 - val_categorical_accuracy: 1.0000 - val_loss: 0.3130\n",
      "Epoch 57/80\n",
      "\u001b[1m3/3\u001b[0m \u001b[32m━━━━━━━━━━━━━━━━━━━━\u001b[0m\u001b[37m\u001b[0m \u001b[1m0s\u001b[0m 21ms/step - categorical_accuracy: 0.9850 - loss: 0.3626 - val_categorical_accuracy: 1.0000 - val_loss: 0.2923\n",
      "Epoch 58/80\n",
      "\u001b[1m3/3\u001b[0m \u001b[32m━━━━━━━━━━━━━━━━━━━━\u001b[0m\u001b[37m\u001b[0m \u001b[1m0s\u001b[0m 21ms/step - categorical_accuracy: 0.9214 - loss: 0.3883 - val_categorical_accuracy: 1.0000 - val_loss: 0.2880\n",
      "Epoch 59/80\n",
      "\u001b[1m3/3\u001b[0m \u001b[32m━━━━━━━━━━━━━━━━━━━━\u001b[0m\u001b[37m\u001b[0m \u001b[1m0s\u001b[0m 21ms/step - categorical_accuracy: 0.9237 - loss: 0.3824 - val_categorical_accuracy: 1.0000 - val_loss: 0.2896\n",
      "Epoch 60/80\n",
      "\u001b[1m3/3\u001b[0m \u001b[32m━━━━━━━━━━━━━━━━━━━━\u001b[0m\u001b[37m\u001b[0m \u001b[1m0s\u001b[0m 22ms/step - categorical_accuracy: 0.9426 - loss: 0.3803 - val_categorical_accuracy: 1.0000 - val_loss: 0.2949\n",
      "Epoch 61/80\n",
      "\u001b[1m3/3\u001b[0m \u001b[32m━━━━━━━━━━━━━━━━━━━━\u001b[0m\u001b[37m\u001b[0m \u001b[1m0s\u001b[0m 21ms/step - categorical_accuracy: 0.9655 - loss: 0.3690 - val_categorical_accuracy: 1.0000 - val_loss: 0.2831\n",
      "Epoch 62/80\n",
      "\u001b[1m3/3\u001b[0m \u001b[32m━━━━━━━━━━━━━━━━━━━━\u001b[0m\u001b[37m\u001b[0m \u001b[1m0s\u001b[0m 22ms/step - categorical_accuracy: 0.9471 - loss: 0.3511 - val_categorical_accuracy: 1.0000 - val_loss: 0.3008\n",
      "Epoch 63/80\n",
      "\u001b[1m3/3\u001b[0m \u001b[32m━━━━━━━━━━━━━━━━━━━━\u001b[0m\u001b[37m\u001b[0m \u001b[1m0s\u001b[0m 26ms/step - categorical_accuracy: 0.9644 - loss: 0.3560 - val_categorical_accuracy: 0.8667 - val_loss: 0.3075\n",
      "Epoch 64/80\n",
      "\u001b[1m3/3\u001b[0m \u001b[32m━━━━━━━━━━━━━━━━━━━━\u001b[0m\u001b[37m\u001b[0m \u001b[1m0s\u001b[0m 22ms/step - categorical_accuracy: 0.9811 - loss: 0.3531 - val_categorical_accuracy: 1.0000 - val_loss: 0.2754\n",
      "Epoch 65/80\n",
      "\u001b[1m3/3\u001b[0m \u001b[32m━━━━━━━━━━━━━━━━━━━━\u001b[0m\u001b[37m\u001b[0m \u001b[1m0s\u001b[0m 22ms/step - categorical_accuracy: 0.9566 - loss: 0.3446 - val_categorical_accuracy: 1.0000 - val_loss: 0.2776\n",
      "Epoch 66/80\n",
      "\u001b[1m3/3\u001b[0m \u001b[32m━━━━━━━━━━━━━━━━━━━━\u001b[0m\u001b[37m\u001b[0m \u001b[1m0s\u001b[0m 22ms/step - categorical_accuracy: 0.9533 - loss: 0.3489 - val_categorical_accuracy: 0.8667 - val_loss: 0.3119\n",
      "Epoch 67/80\n",
      "\u001b[1m3/3\u001b[0m \u001b[32m━━━━━━━━━━━━━━━━━━━━\u001b[0m\u001b[37m\u001b[0m \u001b[1m0s\u001b[0m 22ms/step - categorical_accuracy: 0.9510 - loss: 0.3650 - val_categorical_accuracy: 0.8667 - val_loss: 0.3055\n",
      "Epoch 68/80\n",
      "\u001b[1m3/3\u001b[0m \u001b[32m━━━━━━━━━━━━━━━━━━━━\u001b[0m\u001b[37m\u001b[0m \u001b[1m0s\u001b[0m 22ms/step - categorical_accuracy: 0.9716 - loss: 0.3260 - val_categorical_accuracy: 1.0000 - val_loss: 0.2609\n",
      "Epoch 69/80\n",
      "\u001b[1m3/3\u001b[0m \u001b[32m━━━━━━━━━━━━━━━━━━━━\u001b[0m\u001b[37m\u001b[0m \u001b[1m0s\u001b[0m 21ms/step - categorical_accuracy: 0.9299 - loss: 0.3289 - val_categorical_accuracy: 1.0000 - val_loss: 0.2727\n",
      "Epoch 70/80\n",
      "\u001b[1m3/3\u001b[0m \u001b[32m━━━━━━━━━━━━━━━━━━━━\u001b[0m\u001b[37m\u001b[0m \u001b[1m0s\u001b[0m 22ms/step - categorical_accuracy: 0.9148 - loss: 0.3535 - val_categorical_accuracy: 1.0000 - val_loss: 0.2795\n",
      "Epoch 71/80\n",
      "\u001b[1m3/3\u001b[0m \u001b[32m━━━━━━━━━━━━━━━━━━━━\u001b[0m\u001b[37m\u001b[0m \u001b[1m0s\u001b[0m 22ms/step - categorical_accuracy: 0.9850 - loss: 0.3359 - val_categorical_accuracy: 1.0000 - val_loss: 0.2667\n",
      "Epoch 72/80\n",
      "\u001b[1m3/3\u001b[0m \u001b[32m━━━━━━━━━━━━━━━━━━━━\u001b[0m\u001b[37m\u001b[0m \u001b[1m0s\u001b[0m 22ms/step - categorical_accuracy: 0.9677 - loss: 0.3247 - val_categorical_accuracy: 1.0000 - val_loss: 0.2590\n",
      "Epoch 73/80\n",
      "\u001b[1m3/3\u001b[0m \u001b[32m━━━━━━━━━━━━━━━━━━━━\u001b[0m\u001b[37m\u001b[0m \u001b[1m0s\u001b[0m 22ms/step - categorical_accuracy: 0.9661 - loss: 0.3133 - val_categorical_accuracy: 1.0000 - val_loss: 0.2615\n",
      "Epoch 74/80\n",
      "\u001b[1m3/3\u001b[0m \u001b[32m━━━━━━━━━━━━━━━━━━━━\u001b[0m\u001b[37m\u001b[0m \u001b[1m0s\u001b[0m 22ms/step - categorical_accuracy: 0.9465 - loss: 0.3361 - val_categorical_accuracy: 1.0000 - val_loss: 0.2466\n",
      "Epoch 75/80\n",
      "\u001b[1m3/3\u001b[0m \u001b[32m━━━━━━━━━━━━━━━━━━━━\u001b[0m\u001b[37m\u001b[0m \u001b[1m0s\u001b[0m 23ms/step - categorical_accuracy: 0.9504 - loss: 0.3493 - val_categorical_accuracy: 1.0000 - val_loss: 0.2436\n",
      "Epoch 76/80\n",
      "\u001b[1m3/3\u001b[0m \u001b[32m━━━━━━━━━━━━━━━━━━━━\u001b[0m\u001b[37m\u001b[0m \u001b[1m0s\u001b[0m 22ms/step - categorical_accuracy: 0.9543 - loss: 0.3100 - val_categorical_accuracy: 1.0000 - val_loss: 0.2458\n",
      "Epoch 77/80\n",
      "\u001b[1m3/3\u001b[0m \u001b[32m━━━━━━━━━━━━━━━━━━━━\u001b[0m\u001b[37m\u001b[0m \u001b[1m0s\u001b[0m 22ms/step - categorical_accuracy: 0.9198 - loss: 0.3371 - val_categorical_accuracy: 1.0000 - val_loss: 0.2562\n",
      "Epoch 78/80\n",
      "\u001b[1m3/3\u001b[0m \u001b[32m━━━━━━━━━━━━━━━━━━━━\u001b[0m\u001b[37m\u001b[0m \u001b[1m0s\u001b[0m 22ms/step - categorical_accuracy: 0.9449 - loss: 0.3225 - val_categorical_accuracy: 1.0000 - val_loss: 0.2537\n",
      "Epoch 79/80\n",
      "\u001b[1m3/3\u001b[0m \u001b[32m━━━━━━━━━━━━━━━━━━━━\u001b[0m\u001b[37m\u001b[0m \u001b[1m0s\u001b[0m 21ms/step - categorical_accuracy: 0.9566 - loss: 0.3059 - val_categorical_accuracy: 1.0000 - val_loss: 0.2618\n",
      "Epoch 80/80\n",
      "\u001b[1m3/3\u001b[0m \u001b[32m━━━━━━━━━━━━━━━━━━━━\u001b[0m\u001b[37m\u001b[0m \u001b[1m0s\u001b[0m 22ms/step - categorical_accuracy: 0.9733 - loss: 0.3157 - val_categorical_accuracy: 1.0000 - val_loss: 0.2584\n"
     ]
    },
    {
     "data": {
      "text/plain": [
       "<keras.src.callbacks.history.History at 0x2a1f8b6a0>"
      ]
     },
     "execution_count": 7,
     "metadata": {},
     "output_type": "execute_result"
    }
   ],
   "source": [
    "model.compile(optimizer='sgd', loss='categorical_crossentropy', metrics=['categorical_accuracy'])\n",
    "model.fit(X_train, y_train, epochs=80, validation_data=(X_val, y_val), verbose=1)"
   ]
  },
  {
   "cell_type": "markdown",
   "id": "a7f2a66c",
   "metadata": {},
   "source": [
    "## Printing the results"
   ]
  },
  {
   "cell_type": "code",
   "execution_count": 8,
   "id": "5b747eaf",
   "metadata": {},
   "outputs": [
    {
     "name": "stdout",
     "output_type": "stream",
     "text": [
      "\u001b[1m1/1\u001b[0m \u001b[32m━━━━━━━━━━━━━━━━━━━━\u001b[0m\u001b[37m\u001b[0m \u001b[1m0s\u001b[0m 22ms/step - categorical_accuracy: 0.9667 - loss: 0.2636\n",
      "0.26360148191452026 0.9666666388511658\n"
     ]
    }
   ],
   "source": [
    "loss, accuracy = model.evaluate(X_test, y_test)\n",
    "print(loss, accuracy)"
   ]
  },
  {
   "cell_type": "code",
   "execution_count": 9,
   "id": "7153538f",
   "metadata": {},
   "outputs": [
    {
     "data": {
      "text/html": [
       "<pre style=\"white-space:pre;overflow-x:auto;line-height:normal;font-family:Menlo,'DejaVu Sans Mono',consolas,'Courier New',monospace\"><span style=\"font-weight: bold\">Model: \"sequential\"</span>\n",
       "</pre>\n"
      ],
      "text/plain": [
       "\u001b[1mModel: \"sequential\"\u001b[0m\n"
      ]
     },
     "metadata": {},
     "output_type": "display_data"
    },
    {
     "data": {
      "text/html": [
       "<pre style=\"white-space:pre;overflow-x:auto;line-height:normal;font-family:Menlo,'DejaVu Sans Mono',consolas,'Courier New',monospace\">┏━━━━━━━━━━━━━━━━━━━━━━━━━━━━━━━━━┳━━━━━━━━━━━━━━━━━━━━━━━━┳━━━━━━━━━━━━━━━┓\n",
       "┃<span style=\"font-weight: bold\"> Layer (type)                    </span>┃<span style=\"font-weight: bold\"> Output Shape           </span>┃<span style=\"font-weight: bold\">       Param # </span>┃\n",
       "┡━━━━━━━━━━━━━━━━━━━━━━━━━━━━━━━━━╇━━━━━━━━━━━━━━━━━━━━━━━━╇━━━━━━━━━━━━━━━┩\n",
       "│ dense (<span style=\"color: #0087ff; text-decoration-color: #0087ff\">Dense</span>)                   │ (<span style=\"color: #00d7ff; text-decoration-color: #00d7ff\">None</span>, <span style=\"color: #00af00; text-decoration-color: #00af00\">64</span>)             │           <span style=\"color: #00af00; text-decoration-color: #00af00\">320</span> │\n",
       "├─────────────────────────────────┼────────────────────────┼───────────────┤\n",
       "│ dense_1 (<span style=\"color: #0087ff; text-decoration-color: #0087ff\">Dense</span>)                 │ (<span style=\"color: #00d7ff; text-decoration-color: #00d7ff\">None</span>, <span style=\"color: #00af00; text-decoration-color: #00af00\">32</span>)             │         <span style=\"color: #00af00; text-decoration-color: #00af00\">2,080</span> │\n",
       "├─────────────────────────────────┼────────────────────────┼───────────────┤\n",
       "│ dense_2 (<span style=\"color: #0087ff; text-decoration-color: #0087ff\">Dense</span>)                 │ (<span style=\"color: #00d7ff; text-decoration-color: #00d7ff\">None</span>, <span style=\"color: #00af00; text-decoration-color: #00af00\">3</span>)              │            <span style=\"color: #00af00; text-decoration-color: #00af00\">99</span> │\n",
       "└─────────────────────────────────┴────────────────────────┴───────────────┘\n",
       "</pre>\n"
      ],
      "text/plain": [
       "┏━━━━━━━━━━━━━━━━━━━━━━━━━━━━━━━━━┳━━━━━━━━━━━━━━━━━━━━━━━━┳━━━━━━━━━━━━━━━┓\n",
       "┃\u001b[1m \u001b[0m\u001b[1mLayer (type)                   \u001b[0m\u001b[1m \u001b[0m┃\u001b[1m \u001b[0m\u001b[1mOutput Shape          \u001b[0m\u001b[1m \u001b[0m┃\u001b[1m \u001b[0m\u001b[1m      Param #\u001b[0m\u001b[1m \u001b[0m┃\n",
       "┡━━━━━━━━━━━━━━━━━━━━━━━━━━━━━━━━━╇━━━━━━━━━━━━━━━━━━━━━━━━╇━━━━━━━━━━━━━━━┩\n",
       "│ dense (\u001b[38;5;33mDense\u001b[0m)                   │ (\u001b[38;5;45mNone\u001b[0m, \u001b[38;5;34m64\u001b[0m)             │           \u001b[38;5;34m320\u001b[0m │\n",
       "├─────────────────────────────────┼────────────────────────┼───────────────┤\n",
       "│ dense_1 (\u001b[38;5;33mDense\u001b[0m)                 │ (\u001b[38;5;45mNone\u001b[0m, \u001b[38;5;34m32\u001b[0m)             │         \u001b[38;5;34m2,080\u001b[0m │\n",
       "├─────────────────────────────────┼────────────────────────┼───────────────┤\n",
       "│ dense_2 (\u001b[38;5;33mDense\u001b[0m)                 │ (\u001b[38;5;45mNone\u001b[0m, \u001b[38;5;34m3\u001b[0m)              │            \u001b[38;5;34m99\u001b[0m │\n",
       "└─────────────────────────────────┴────────────────────────┴───────────────┘\n"
      ]
     },
     "metadata": {},
     "output_type": "display_data"
    },
    {
     "data": {
      "text/html": [
       "<pre style=\"white-space:pre;overflow-x:auto;line-height:normal;font-family:Menlo,'DejaVu Sans Mono',consolas,'Courier New',monospace\"><span style=\"font-weight: bold\"> Total params: </span><span style=\"color: #00af00; text-decoration-color: #00af00\">2,501</span> (9.77 KB)\n",
       "</pre>\n"
      ],
      "text/plain": [
       "\u001b[1m Total params: \u001b[0m\u001b[38;5;34m2,501\u001b[0m (9.77 KB)\n"
      ]
     },
     "metadata": {},
     "output_type": "display_data"
    },
    {
     "data": {
      "text/html": [
       "<pre style=\"white-space:pre;overflow-x:auto;line-height:normal;font-family:Menlo,'DejaVu Sans Mono',consolas,'Courier New',monospace\"><span style=\"font-weight: bold\"> Trainable params: </span><span style=\"color: #00af00; text-decoration-color: #00af00\">2,499</span> (9.76 KB)\n",
       "</pre>\n"
      ],
      "text/plain": [
       "\u001b[1m Trainable params: \u001b[0m\u001b[38;5;34m2,499\u001b[0m (9.76 KB)\n"
      ]
     },
     "metadata": {},
     "output_type": "display_data"
    },
    {
     "data": {
      "text/html": [
       "<pre style=\"white-space:pre;overflow-x:auto;line-height:normal;font-family:Menlo,'DejaVu Sans Mono',consolas,'Courier New',monospace\"><span style=\"font-weight: bold\"> Non-trainable params: </span><span style=\"color: #00af00; text-decoration-color: #00af00\">0</span> (0.00 B)\n",
       "</pre>\n"
      ],
      "text/plain": [
       "\u001b[1m Non-trainable params: \u001b[0m\u001b[38;5;34m0\u001b[0m (0.00 B)\n"
      ]
     },
     "metadata": {},
     "output_type": "display_data"
    },
    {
     "data": {
      "text/html": [
       "<pre style=\"white-space:pre;overflow-x:auto;line-height:normal;font-family:Menlo,'DejaVu Sans Mono',consolas,'Courier New',monospace\"><span style=\"font-weight: bold\"> Optimizer params: </span><span style=\"color: #00af00; text-decoration-color: #00af00\">2</span> (12.00 B)\n",
       "</pre>\n"
      ],
      "text/plain": [
       "\u001b[1m Optimizer params: \u001b[0m\u001b[38;5;34m2\u001b[0m (12.00 B)\n"
      ]
     },
     "metadata": {},
     "output_type": "display_data"
    }
   ],
   "source": [
    "model.summary()"
   ]
  }
 ],
 "metadata": {
  "kernelspec": {
   "display_name": "Python 3.10 (tensorflow)",
   "language": "python",
   "name": "tensorflow"
  },
  "language_info": {
   "codemirror_mode": {
    "name": "ipython",
    "version": 3
   },
   "file_extension": ".py",
   "mimetype": "text/x-python",
   "name": "python",
   "nbconvert_exporter": "python",
   "pygments_lexer": "ipython3",
   "version": "3.10.13"
  }
 },
 "nbformat": 4,
 "nbformat_minor": 5
}
